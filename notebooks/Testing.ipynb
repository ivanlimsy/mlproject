{
 "cells": [
  {
   "cell_type": "code",
   "execution_count": 1,
   "id": "f23547b9",
   "metadata": {
    "ExecuteTime": {
     "end_time": "2021-11-27T02:48:19.157646Z",
     "start_time": "2021-11-27T02:48:19.146152Z"
    }
   },
   "outputs": [],
   "source": [
    "from mlproject.distance import haversine"
   ]
  },
  {
   "cell_type": "code",
   "execution_count": 3,
   "id": "da1b8b87",
   "metadata": {
    "ExecuteTime": {
     "end_time": "2021-11-27T05:37:41.227174Z",
     "start_time": "2021-11-27T05:37:41.213343Z"
    }
   },
   "outputs": [
    {
     "data": {
      "text/plain": [
       "314.2832550736839"
      ]
     },
     "execution_count": 3,
     "metadata": {},
     "output_type": "execute_result"
    }
   ],
   "source": [
    "haversine(1,2,3,4)"
   ]
  }
 ],
 "metadata": {
  "kernelspec": {
   "display_name": "Python 3 (ipykernel)",
   "language": "python",
   "name": "python3"
  },
  "language_info": {
   "codemirror_mode": {
    "name": "ipython",
    "version": 3
   },
   "file_extension": ".py",
   "mimetype": "text/x-python",
   "name": "python",
   "nbconvert_exporter": "python",
   "pygments_lexer": "ipython3",
   "version": "3.8.6"
  },
  "toc": {
   "base_numbering": 1,
   "nav_menu": {},
   "number_sections": true,
   "sideBar": true,
   "skip_h1_title": false,
   "title_cell": "Table of Contents",
   "title_sidebar": "Contents",
   "toc_cell": false,
   "toc_position": {},
   "toc_section_display": true,
   "toc_window_display": false
  }
 },
 "nbformat": 4,
 "nbformat_minor": 5
}
